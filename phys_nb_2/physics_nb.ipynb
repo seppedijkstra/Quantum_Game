{
 "cells": [
  {
   "cell_type": "markdown",
   "id": "71b7ca3c",
   "metadata": {},
   "source": [
    "# Introduction\n",
    "\n",
    "Hello again!\n",
    "\n",
    "Now that you are familiar with the classical game of Black Jack, let us dive into the world of Quantum Mechanics and understand some important principles.\n",
    "\n",
    "## Double Slit Experiment\n",
    "In order to grasp the strange world of the Quantum framework, let us analyse one of the most popular experinces in history: the \"double slit experiment\"! \n",
    "\n",
    "The double slit experiment is a key step in understanding where quantum mechanics arises from and in understanding the concept of the quantum state of the system.\n",
    "\n",
    "In 1801 Thomas Young demonstrated that light behaves like a wave with the following experimental setup.\n",
    "\n",
    "<p align=\"center\">\n",
    "  <img src=\"images/Screenshot_2025-09-17_163549.png\" alt=\"Double slit setup\" width=\"60%\">\n",
    "</p>\n",
    "\n",
    "The setup consists of a wall with two narrow slits and an absorber screen that can detect, at each point of the screen, the intensity of the incident light. What characterizes the wave behavior of light is the distribution of intensity across the screen, which forms an interference pattern (c). If we now repeat the experiment with a source of electrons, we get the same interference pattern on the absorber screen; however, this seems strange because if we think of electrons as microscopic balls, we are led to expect the following distribution:\n",
    "\n",
    "<p align=\"center\">\n",
    "  <img src=\"images/Screenshot_2025-09-17_165022.png\" alt=\"Classical expectation\" width=\"25%\">\n",
    "</p>\n",
    "\n",
    "In this case we talk about probability because we measure how many electrons hit each point on the screen out of the total. $P_1$ is the probability of an electron passing through the first slit, while $P_2$ is the probability of passing through the second slit; classically the total probability would be the sum:  \n",
    "$$\n",
    "P_{12} = P_1 + P_2\n",
    "$$  \n",
    "Thinking of electrons as microscopic balls we are also led to think that each electron either goes through slit 1 or slit 2. Yet, experimentally, what we observe is very different; each electron, even when sent one at a time, contributes to an interference pattern—as if it passed through both slits.\n",
    "\n",
    "To test this idea we try to determine “which path” the electron takes.\n",
    "\n",
    "<p align=\"center\">\n",
    "  <img src=\"images/light.png\" alt=\"Which-path detection\" width=\"55%\">\n",
    "</p>\n",
    "\n",
    "We add a very strong light source placed behind the wall and between the two slits. When an electron passes on its way to the detector, it scatters light so we can see where it goes. Observation: every time an electron hits the detector screen we see a flash either near slit 1 or slit 2—never both. The distribution on the screen now corresponds to the classical sum $P_{12} = P_1 + P_2$. When we turn off the light, the interference pattern is restored.\n",
    "\n",
    "This suggests that observing (measuring) the path alters the outcome. Perhaps the light “disturbs” the electrons. If we use gentler (lower frequency, longer wavelength) light, we can no longer accurately tell which slit the electron passed through; in that case the interference pattern reappears."
   ]
  },
  {
   "cell_type": "markdown",
   "id": "e4e6b441",
   "metadata": {},
   "source": [
    "<div style=\"margin:1.2em 0; background:#f8fafc; color:#111827; border:1px solid #cbd5e1; border-radius:10px; padding:16px 20px; font-size:15.5px; line-height:1.55; font-family:Segoe UI, Roboto, sans-serif;\">\n",
    "\n",
    "  <div style=\"font-weight:700; color:#1e293b; margin-bottom:.5rem; font-size:16.5px;\">\n",
    "    Conclusion\n",
    "  </div>\n",
    "If the apparatus is capable of determining whether electrons go through slit 1 or slit 2, then we obtain outcomes consistent with “either slit 1 or slit 2” and no interference. When we do not (and cannot) determine the path, and nothing in the experiment disturbs the electrons, we may not say the electron went through only one slit—the interference pattern emerges.\n",
    "</div>\n",
    "\n",
    "\n",
    "\n",
    "\n",
    "\n"
   ]
  },
  {
   "cell_type": "markdown",
   "id": "bffb6d2308b3daa1",
   "metadata": {},
   "source": [
    "# Quantum Gates\n",
    "So far you are familiar with classical gates, however in quantum computing we need to use other gates. Thus in this lecture, quantum gates and circuits will be explained. We will go over the most basic operations and how they can be implemented in [QISKIT](https://github.com/Qiskit/qiskit). QISKIT is an open-source quantum computing software development framework for leveraging today's quantum processors in research, education, and business. It provides tools for creating and manipulating quantum programs and running them on prototype quantum devices and simulators."
   ]
  },
  {
   "cell_type": "code",
   "execution_count": 12,
   "id": "521ec817286cd713",
   "metadata": {
    "ExecuteTime": {
     "end_time": "2025-09-30T15:07:11.329115Z",
     "start_time": "2025-09-30T15:07:02.263374Z"
    }
   },
   "outputs": [],
   "source": [
    "import qiskit\n",
    "from qiskit import transpile\n",
    "from qiskit import QuantumCircuit\n",
    "from qiskit_aer import AerSimulator\n",
    "from qiskit.visualization import plot_histogram\n",
    "import matplotlib.pyplot as plt\n",
    "import numpy as np"
   ]
  },
  {
   "cell_type": "markdown",
   "id": "ce5a6f2bd2e39a05",
   "metadata": {},
   "source": [
    "## Gate operators\n",
    "To show how different quantum principles can be simulated, we need some understanding of quantum gates. Now we will see how to implement these principles in QISKIT. First, you need to install the QISKIT library.\n"
   ]
  },
  {
   "cell_type": "code",
   "execution_count": 13,
   "id": "2defc2d38d4eff25",
   "metadata": {
    "ExecuteTime": {
     "end_time": "2025-09-30T15:07:11.366146Z",
     "start_time": "2025-09-30T15:07:11.357584Z"
    }
   },
   "outputs": [],
   "source": [
    "# To create a single qubit we can use the following\n",
    "single_qubit = qiskit.QuantumCircuit(1)"
   ]
  },
  {
   "cell_type": "markdown",
   "id": "aad3f67d8859251f",
   "metadata": {},
   "source": [
    "### Hadamard Gate\n",
    "There are a lot of different gates that we can simulate using QISKIT. The most basic one is the Hadamard gate. The Hadamard gate is a one-qubit operation that maps the basis state $\\ket{0}$ to the superposition state $\\frac{|0⟩ + |1⟩}{\\sqrt{2}}$ and the basis state $\\ket{1}$ to the superposition state $\\frac{|0⟩ - |1⟩}{\\sqrt{2}}$. In other words, it takes a qubit in the state $\\ket{0}$ or $\\ket{1}$ and puts it into an equal superposition of both states.\n"
   ]
  },
  {
   "cell_type": "code",
   "execution_count": 14,
   "id": "10048290160e946b",
   "metadata": {
    "ExecuteTime": {
     "end_time": "2025-09-30T15:07:12.222439Z",
     "start_time": "2025-09-30T15:07:11.381780Z"
    }
   },
   "outputs": [
    {
     "data": {
      "image/png": "[encoded data removed]",
      "text/plain": [
       "<Figure size 185.453x117.056 with 1 Axes>"
      ]
     },
     "execution_count": 14,
     "metadata": {},
     "output_type": "execute_result"
    }
   ],
   "source": [
    "hadamard_qubit = QuantumCircuit(1) # Create a quantum circuit with one qubit\n",
    "hadamard_qubit.h(0) # Apply Hadamard gate to qubit 0\n",
    "hadamard_qubit.draw('mpl') # Draw the circuit"
   ]
  },
  {
   "cell_type": "markdown",
   "id": "9994d2867c85bddc",
   "metadata": {},
   "source": [
    "### Rotation Gates\n",
    "Another important gate is the rotation gate. The rotation gate is a one-qubit operation that rotates the state of a qubit around the Bloch sphere. There are three types of rotation gates: Rx, Ry, and Rz. The Rx gate rotates the qubit around the x-axis, the Ry gate rotates the qubit around the y-axis, and the Rz gate rotates the qubit around the z-axis. These gates can be very useful for example to create a bias in a qubit. Maybe you want to represent a coin that has a higher chance of landing on heads. To do this you can actually apply a rotation gate after the Hadamard gate."
   ]
  },
  {
   "cell_type": "markdown",
   "id": "1270eb3c",
   "metadata": {},
   "source": [
    "<div style=\"margin:1.2em 0; background:#f8fafc; color:#111827; border:1px solid #cbd5e1; border-radius:10px; padding:16px 20px; font-size:15.5px; line-height:1.55; font-family:Segoe UI, Roboto, sans-serif;\">\n",
    "\n",
    "  <div style=\"font-weight:700; color:#1e293b; margin-bottom:.5rem; font-size:16.5px;\">\n",
    "    Rotation Gates\n",
    "  </div>\n",
    " The rotation operators are:\n",
    "  \n",
    "  $$\n",
    "  R_x(\\theta)=\n",
    "  \\begin{bmatrix}\n",
    "  \\cos\\!\\left(\\tfrac{\\theta}{2}\\right) & -i\\sin\\!\\left(\\tfrac{\\theta}{2}\\right)\\\\\n",
    "  -i\\sin\\!\\left(\\tfrac{\\theta}{2}\\right) & \\cos\\!\\left(\\tfrac{\\theta}{2}\\right)\n",
    "  \\end{bmatrix}\n",
    "  \\quad\n",
    "  R_y(\\theta)=\n",
    "  \\begin{bmatrix}\n",
    "  \\cos\\!\\left(\\tfrac{\\theta}{2}\\right) & \\sin\\!\\left(\\tfrac{\\theta}{2}\\right)\\\\\n",
    "  -\\sin\\!\\left(\\tfrac{\\theta}{2}\\right) & \\cos\\!\\left(\\tfrac{\\theta}{2}\\right)\n",
    "  \\end{bmatrix}\n",
    "  \\quad\n",
    "  R_z(\\theta)=\n",
    "  \\begin{bmatrix}\n",
    "  e^{-i\\frac{\\theta}{2}} & 0\\\\\n",
    "  0 & e^{i\\frac{\\theta}{2}}\n",
    "  \\end{bmatrix}\n",
    "  $$\n",
    "</div>\n"
   ]
  },
  {
   "cell_type": "markdown",
   "id": "c02d6da5",
   "metadata": {},
   "source": [
    "\n",
    "From these gates we can see that the $R_y$ gate is solely changing the amplitude, which result to the probability. $R_z$ is only changing the phase and $R_x$ is both changing the phase and the amplitude at the same time."
   ]
  },
  {
   "cell_type": "code",
   "execution_count": 15,
   "id": "ec883d4e0a5fd644",
   "metadata": {
    "ExecuteTime": {
     "end_time": "2025-09-30T15:07:13.563861Z",
     "start_time": "2025-09-30T15:07:13.397625Z"
    }
   },
   "outputs": [
    {
     "data": {
      "image/png": "[encoded data removed]",
      "text/plain": [
       "<Figure size 352.675x200.667 with 1 Axes>"
      ]
     },
     "execution_count": 15,
     "metadata": {},
     "output_type": "execute_result"
    }
   ],
   "source": [
    "# These gates can simply be implemented in QISKIT:\n",
    "r_qc = QuantumCircuit(1,1)\n",
    "r_qc.rx(np.pi/6, 0)   # Rotation of pi/6 around the y-axis on qubit 0\n",
    "r_qc.ry(np.pi/6, 0)   # Rotation of pi/6 around the y-axis on qubit 0\n",
    "r_qc.rz(np.pi/6, 0)   # Rotation of pi/6 around the y-axis on qubit 0\n",
    "r_qc.draw('mpl')"
   ]
  },
  {
   "cell_type": "markdown",
   "id": "e777386e1043a8b0",
   "metadata": {},
   "source": [
    "#### Pauli Gates\n",
    "Pauli gates are a very useful example of the rotation gates. Also the pauli gates are present in both the x, y and z direction. The Pauli x-gate is the equivalent of a classical not gate. The Pauli y-gate is a combination of a bit and phase flip. Lastly the Pauli z-gate is a phase flip."
   ]
  },
  {
   "cell_type": "markdown",
   "id": "925df240",
   "metadata": {},
   "source": [
    "<div style=\"margin:1.2em 0; background:#f8fafc; color:#111827; border:1px solid #cbd5e1; border-radius:10px; padding:16px 20px; font-size:15.5px; line-height:1.55; font-family:Segoe UI, Roboto, sans-serif;\">\n",
    "\n",
    "  <div style=\"font-weight:700; color:#1e293b; margin-bottom:.5rem; font-size:16.5px;\">\n",
    "    Pauli Gates\n",
    "  </div>\n",
    "\n",
    "  \n",
    " $$ \\sigma_x = \\begin{bmatrix} 0 & 1 \\\\ 1 & 0 \\end{bmatrix} \\quad\n",
    "\\sigma_y = \\begin{bmatrix} 0 & -i \\\\ i & 0 \\end{bmatrix} \\quad\n",
    "\\sigma_z = \\begin{bmatrix} 1 & 0 \\\\ 0 & -1 \\end{bmatrix}\n",
    "$$\n",
    "</div>\n"
   ]
  },
  {
   "cell_type": "markdown",
   "id": "9fdc6e6d",
   "metadata": {},
   "source": [
    "As can be seen these pauli gates are just the rotation gates, but than for $\\theta= \\pi$. However, in literature they are always referred to as simply pauli gates."
   ]
  },
  {
   "cell_type": "code",
   "execution_count": 16,
   "id": "bd1d983a43317953",
   "metadata": {
    "ExecuteTime": {
     "end_time": "2025-09-30T15:07:13.688649Z",
     "start_time": "2025-09-30T15:07:13.607375Z"
    }
   },
   "outputs": [
    {
     "data": {
      "image/png": "[encoded data removed]",
      "text/plain": [
       "<Figure size 352.675x200.667 with 1 Axes>"
      ]
     },
     "execution_count": 16,
     "metadata": {},
     "output_type": "execute_result"
    }
   ],
   "source": [
    "sigma_qc = QuantumCircuit(1,1)\n",
    "sigma_qc.x(0)   # Pauli x-gate on qubit 0\n",
    "sigma_qc.y(0)   # Pauli y-gate on qubit 0\n",
    "sigma_qc.z(0)   # Pauli z-gate on qubit 0\n",
    "sigma_qc.draw('mpl')"
   ]
  },
  {
   "cell_type": "markdown",
   "id": "aafa05c3ab9fd35b",
   "metadata": {},
   "source": [
    "## Simulating Quantum principles\n"
   ]
  },
  {
   "cell_type": "markdown",
   "id": "6c03a6660bdbe90a",
   "metadata": {},
   "source": [
    "### Simulation\n",
    "In QISKIT it is possible to create different simulations. For our case we want to work with real data and outcomes. Thus we will use the AerSimulator to simulate our quantum circuits. In the following code you will how we must initialize the simulator and run a simple circuit with a Hadamard gate and a measurement."
   ]
  },
  {
   "cell_type": "code",
   "execution_count": 17,
   "id": "fd5f354631353876",
   "metadata": {
    "ExecuteTime": {
     "end_time": "2025-09-30T15:07:13.821780Z",
     "start_time": "2025-09-30T15:07:13.724632Z"
    }
   },
   "outputs": [
    {
     "data": {
      "image/png": "[encoded data removed]",
      "text/plain": [
       "<Figure size 185.453x200.667 with 1 Axes>"
      ]
     },
     "execution_count": 17,
     "metadata": {},
     "output_type": "execute_result"
    }
   ],
   "source": [
    "def simulate(quantum_circuit=None):\n",
    "    ## Initialize the simulator\n",
    "    sim = AerSimulator()\n",
    "\n",
    "    ## Generates a transpiled version of the quantum circuit that is optimized for the specified backend (simulator in this case)\n",
    "    tqc = transpile(quantum_circuit, sim)\n",
    "    ## Run the simulation with 1000 shots (repetitions) to get a distribution of results\n",
    "    result = sim.run(tqc, shots=1000).result()\n",
    "    return result\n",
    "\n",
    "\n",
    "\n",
    "## create a quantum circuit with one qubit\n",
    "qc = QuantumCircuit(1, 1)\n",
    "\n",
    "## Before measuring you can apply a certain gate\n",
    "## With the qc.measure function we can measure the qubit and the result can be stored in a 'classical' bit\n",
    "qc.measure(0, 0)\n",
    "\n",
    "qc.draw('mpl')"
   ]
  },
  {
   "cell_type": "code",
   "execution_count": 18,
   "id": "7e518fe092431822",
   "metadata": {
    "ExecuteTime": {
     "end_time": "2025-09-30T15:07:14.755729Z",
     "start_time": "2025-09-30T15:07:13.859899Z"
    }
   },
   "outputs": [
    {
     "data": {
      "image/png": "[encoded data removed]",
      "text/plain": [
       "<Figure size 640x480 with 1 Axes>"
      ]
     },
     "execution_count": 18,
     "metadata": {},
     "output_type": "execute_result"
    }
   ],
   "source": [
    "plot_histogram(simulate(qc).get_counts())"
   ]
  },
  {
   "cell_type": "markdown",
   "id": "d39cab93",
   "metadata": {},
   "source": [
    "# Superposition\n",
    "\n",
    "From the double-slit experiment we are led to think that what truly characterizes the state of the physical system is the probability distribution of the possible outcomes. We then need some practical mathematical tools to describe the states that characterize our physical system. From our experiment, these tools should be exclusive and exhaustive: each of them corresponds to a distinct result of a measurement (exclusive) and their entire set corresponds to all possible results (exhaustive).\n",
    "\n",
    "A particular state x of the system is described by a symbol, namely a \"ket\", represented by the notation $\\ket{x}$ (Dirac notation). In the double slit experiment, the measurement of the electron through slit 1 or slit 2 can be described by two basis states:\n",
    "\n",
    "- $\\ket{1}$ corresponds to the electron passing through slit 1  \n",
    "- $\\ket{2}$ corresponds to the electron passing through slit 2  "
   ]
  },
  {
   "cell_type": "markdown",
   "id": "ca9f1c33",
   "metadata": {},
   "source": [
    "<div style=\"margin:1.2em 0; background:#f8fafc; color:#111827; border:1px solid #cbd5e1; border-radius:10px; padding:16px 20px; font-size:15.5px; line-height:1.55; font-family:Segoe UI, Roboto, sans-serif;\">\n",
    "\n",
    "  <div style=\"font-weight:700; color:#1e293b; margin-bottom:.5rem; font-size:16.5px;\">\n",
    "    Superpoistion\n",
    "  </div>\n",
    "The system can be in a general superposition of the two states, which is a linear combination:\n",
    "\n",
    "$$\n",
    "\\ket{\\psi} = \\alpha \\ket{1} + \\beta \\ket{2}\n",
    "$$\n",
    "  \n",
    "</div>\n"
   ]
  },
  {
   "cell_type": "markdown",
   "id": "870b9f30",
   "metadata": {},
   "source": [
    "Because kets describe exclusive and exhaustive states, we interpret them as basis vectors. This suggests introducing an inner product:\n",
    "$$\\braket{\\phi|\\psi}$$\n",
    "\n",
    "With respect to this inner product, for an orthonormal basis formed by our two states we have:\n",
    "$$\\braket{1|1} = \\braket{2|2} = 1$$\n",
    "$$\\braket{2|1} = \\braket{1|2} = 0$$"
   ]
  },
  {
   "cell_type": "markdown",
   "id": "577f16fb",
   "metadata": {},
   "source": [
    "# Measurements\n",
    "\n",
    "We have seen that a closed quantum system will evolve according to a unitary evolution operator. However, there must come a time that the experimentalist will need to check some kind of result. In order to check, we need the experimentalist equipment (an external physical system), which will check \"what is happening\"."
   ]
  },
  {
   "cell_type": "markdown",
   "id": "aec8d547",
   "metadata": {},
   "source": [
    "<div style=\"margin:1.2em 0; background:#f8fafc; color:#111827; border:1px solid #cbd5e1; border-radius:10px; padding:16px 20px; font-size:15.5px; line-height:1.55; font-family:Segoe UI, Roboto, sans-serif;\">\n",
    "\n",
    "  <div style=\"font-weight:700; color:#1e293b; margin-bottom:.5rem; font-size:16.5px;\">\n",
    "    Measurement Postulate\n",
    "  </div>\n",
    "\n",
    "  Quantum measurements are described by a collection $\\{M_m\\}$ of <em>measurement operators</em> acting on the system’s state space. The index $m$ labels possible outcomes. If the system is in state $|\\psi\\rangle$ immediately before measurement, the probability of outcome $m$ is:\n",
    "  $$\n",
    "  p(m)=\\langle \\psi|\\, M_m^\\dagger M_m \\,|\\psi\\rangle\n",
    "  $$\n",
    "\n",
    "  After obtaining $m$ the post‑measurement state is:\n",
    "  $$\n",
    "  |\\psi'\\rangle=\\frac{M_m|\\psi\\rangle}{\\sqrt{\\langle \\psi| M_m^\\dagger M_m |\\psi\\rangle}}\n",
    "  $$\n",
    "\n",
    "  The operators satisfy the completeness relation:\n",
    "  $$\n",
    "  \\sum_m M_m^\\dagger M_m = I\n",
    "  $$\n",
    "\n",
    "  Ensuring probabilities sum to one:\n",
    "  $$\n",
    "  1=\\sum_m p(m)=\\sum_m \\langle \\psi| M_m^\\dagger M_m |\\psi\\rangle\n",
    "  $$\n",
    "\n",
    "  Verifying this for all $|\\psi\\rangle$ is equivalent to the completeness relation.\n",
    "</div>"
   ]
  },
  {
   "cell_type": "markdown",
   "id": "320ece92",
   "metadata": {},
   "source": [
    "Although this is the broadest definition, it is not as intuitive as we would like. In addition, it is not the common framework when we talk about measurements. As a result, we will present the special case that is the most commonly used, which is the *projective* or *von Neumann* measurement."
   ]
  },
  {
   "cell_type": "markdown",
   "id": "f8ddb1f2",
   "metadata": {},
   "source": [
    "<div style=\"margin:1.2em 0; background:#f8fafc; color:#111827; border:1px solid #cbd5e1; border-radius:10px; padding:16px 20px; font-size:15.5px; line-height:1.55; font-family:Segoe UI, Roboto, sans-serif;\">\n",
    "\n",
    "  <div style=\"font-weight:700; color:#1e293b; margin-bottom:.5rem; font-size:16.5px;\">\n",
    "    Projective Measurement\n",
    "  </div>\n",
    "\n",
    "  For a given orthonormal basis $B = \\{\\ket{\\varphi_i}\\}$ of a state space $\\mathcal{H_A}$ for a system $A$, it is possible to perform a projective measurement on system $\\mathcal{H_A}$ with respect to the basis $B$ that, given a state\n",
    "$$\n",
    "\\ket{\\psi} = \\sum_j \\alpha_j \\ket{\\varphi_j},\n",
    "$$\n",
    "\n",
    "outputs a **label $i$** with **probability $|\\alpha_i|^2$** and **leaves the system in state $\\ket{\\varphi_i}$** (the state “collapses” to $\\ket{\\varphi_i}$). Moreover, a projective measurement can be described by an observable $M$ with spectral decomposition\n",
    "$$\n",
    "M = \\sum_m m P_m\n",
    "$$\n",
    "where $P_m$ is the projector onto the eigenspace of $M$ with eigenvalue $m$.\n",
    "</div>"
   ]
  },
  {
   "cell_type": "markdown",
   "id": "bf45de6b",
   "metadata": {},
   "source": [
    "For example, if we want to define a projection operator in basis $B$, then $P_j = \\ket{\\varphi_j}\\bra{\\varphi_j}$. We can check that $P_j^\\dagger P_j = P_j$ and $\\sum_j P_j = I$ due to the completeness relation $\\sum_j \\ket{\\varphi_j}\\bra{\\varphi_j} = I$. Therefore, the collection $\\{P_j\\}$ is a projective measurement, consistent with the postulate defined previously.\n",
    "\n",
    "You can notice that $\\alpha_j = \\braket{\\varphi_j|\\psi}$ since $\\ket{\\psi} = \\sum_j \\ket{\\varphi_j}\\braket{\\varphi_j|\\psi}$. Additionally,\n",
    "$$|\\alpha_i|^2 = \\alpha_i^* \\alpha_i = \\braket{\\psi|\\varphi_i}\\braket{\\varphi_i|\\psi} = \\bra{\\psi} P_i \\ket{\\psi} = \\bra{\\psi} P_i^\\dagger P_i \\ket{\\psi} = p(i),$$\n",
    "which means that the probability of getting the outcome $\\ket{\\varphi_j}$ is $|\\alpha_j|^2$. After the measurement, the state collapses to $\\dfrac{P_m \\ket{\\psi}}{\\sqrt{p(m)}}$.\n",
    "\n",
    "Let us consider the following example. We have a superposition of states in the basis $\\{\\ket{0}, \\ket{1}, \\ket{2}\\}$:\n",
    "$$\\ket{\\psi} = \\sqrt{\\frac{1}{11}}\\ket{0} + \\sqrt{\\frac{7}{11}}\\ket{1} + \\sqrt{\\frac{3}{11}}\\ket{2}.$$\n",
    "The probability of getting the label $1$ as a measurement outcome is $\\dfrac{7}{11}$, implying that after that the initial state will collapse to $\\ket{1}$."
   ]
  },
  {
   "cell_type": "markdown",
   "id": "967e2c514b9a21fc",
   "metadata": {},
   "source": [
    "### Measuring Superposition\n",
    "Now that we have seen the quantum principle of superposition and how this is related to measurements, we can go through two excercises: the first one is theoretical in order to help you better understand how probabilities are computed, while in the second one you are requested with a more \"hands-on\" approach. \n"
   ]
  },
  {
   "cell_type": "markdown",
   "id": "9a4a1d69",
   "metadata": {},
   "source": [
    "<div style=\"margin:1.2em 0; background:#f8fafc; color:#111827; border:1px solid #cbd5e1; border-radius:10px; padding:16px 20px; font-size:15.5px; line-height:1.55; font-family:Segoe UI, Roboto, sans-serif;\">\n",
    "\n",
    "  <div style=\"font-weight:700; color:#1e293b; margin-bottom:.5rem; font-size:16.5px;\">\n",
    "    📌 Exercise #1 - Double slit experiment\n",
    "  </div>\n",
    "\n",
    "  Consider a particle that can go through two slits.  \n",
    "  We denote the state ∣1⟩ as \"the particle passed through the first slit\" and ∣2⟩ as \"the particle passed through the second slit.\"  \n",
    "\n",
    "  As we have seen, the most general state of the particle is:  \n",
    "  $$\\lvert \\psi\\rangle = \\alpha\\lvert 1\\rangle + \\beta\\lvert 2\\rangle$$\n",
    "\n",
    "  1. Write down the probability of finding the particle in state ∣1⟩.\n",
    "  2. Write down the probability of finding the particle in state ∣2⟩.\n",
    "  3. Suppose we instead measure in the basis  \n",
    "\n",
    "     $$\n",
    "     \\lvert +\\rangle = \\tfrac{1}{\\sqrt{2}}(\\lvert 1\\rangle + \\lvert 2\\rangle), \\quad\n",
    "     \\lvert -\\rangle = \\tfrac{1}{\\sqrt{2}}(\\lvert 1\\rangle - \\lvert 2\\rangle)\n",
    "     $$\n",
    "\n",
    "     What are the probabilities of ∣+⟩ and ∣-⟩?\n",
    "\n",
    "</div>\n",
    "\n",
    "\n",
    "\n",
    "\n",
    "\n"
   ]
  },
  {
   "cell_type": "markdown",
   "id": "a577f623",
   "metadata": {},
   "source": [
    "<details style=\"margin:1.2em 0; border:1px solid #cbd5e1; border-radius:10px; overflow:hidden; font-family:Segoe UI, Roboto, sans-serif;\">\n",
    "  <summary style=\"cursor:pointer; padding:10px 14px; background:#e2e8f0; color:#1e293b; font-weight:600; font-size:15px;\">\n",
    "    Need some help? <i>Click for a hint</i>\n",
    "  </summary>\n",
    "  <div style=\"padding:12px 16px; background:#f8fafc; color:#111827; font-size:14.5px; line-height:1.55;\">\n",
    "    Remember how probability is definined and the inner product between basis states (∣1⟩ and ∣2⟩ are orthogonal!).\n",
    "  \n",
    "  </div>\n",
    "</details>"
   ]
  },
  {
   "cell_type": "markdown",
   "id": "9a4d676d",
   "metadata": {},
   "source": [
    "<div style=\"margin:1.2em 0; background:#f8fafc; color:#111827; border:1px solid #cbd5e1; border-radius:10px; padding:16px 20px; font-size:15.5px; line-height:1.55; font-family:Segoe UI, Roboto, sans-serif;\">\n",
    "\n",
    "  <div style=\"font-weight:700; color:#1e293b; margin-bottom:.5rem; font-size:16.5px;\">\n",
    "    📌 Exercise #2 - Measuring in QISKIT\n",
    "  </div>\n",
    "\n",
    "  In this excercise you are asked to simulate in QISKIT a measure process through the tools you learned before.\n",
    "\n",
    "  1. Create a quantum circuit with one qubit.\n",
    "  2. Apply the Hadamard gate taught before and measure the qubit.\n",
    "  3. Use the simulate function.\n",
    "  4. Plot the result and draw the circuit\n",
    "\n",
    "</div>"
   ]
  },
  {
   "cell_type": "markdown",
   "id": "648f4c2a155a24cc",
   "metadata": {},
   "source": [
    "#### 'Introducing bias'\n",
    "As taught before we have other gates that can rotate the states, which will make some states more favorable. In the following code you must try to create a coin that is 75% biased to land on heads, (let heads be the $\\ket{0}$ and tails $\\ket{1}$). Then plot the results, from the results it must be seen that it will be a distribution of 750 heads and 250 tails.\n",
    "<details>\n",
    "  <summary>💡 Hint</summary>\n",
    "  Go and look for the rotation qubit and how rotating it works. Then think about how you can create a phase that will result in a 75% chance for heads.\n",
    "</details>"
   ]
  },
  {
   "cell_type": "code",
   "execution_count": null,
   "id": "ff597b06df1be746",
   "metadata": {
    "ExecuteTime": {
     "end_time": "2025-09-30T15:07:14.850527Z",
     "start_time": "2025-09-30T15:07:14.846954Z"
    }
   },
   "outputs": [],
   "source": []
  },
  {
   "cell_type": "markdown",
   "id": "87e7b079369c0c07",
   "metadata": {},
   "source": [
    "#### Bonus 'Flipping the coin'\n",
    "As a bonus try to create the qiskit implementation of flipping this coin and then plot the results again."
   ]
  },
  {
   "cell_type": "code",
   "execution_count": null,
   "id": "11d511ae7bda03a8",
   "metadata": {
    "ExecuteTime": {
     "end_time": "2025-09-30T15:07:14.871426Z",
     "start_time": "2025-09-30T15:07:14.867931Z"
    }
   },
   "outputs": [],
   "source": []
  },
  {
   "cell_type": "markdown",
   "id": "3eb4cf0e",
   "metadata": {},
   "source": [
    "# Entanglement\n",
    "\n",
    "Until now, we have only considered one isolated quantum system, call it $\\mathcal{H}_A$, which (in the quantum computing framework) has computational basis $\\{\\ket{0}, \\ket{1}\\}$ defining a qubit. However, we can also have more than one quantum system whose qubits **interact** with each other. As a result, we can treat the composite as one combined system."
   ]
  },
  {
   "cell_type": "markdown",
   "id": "c9f83048",
   "metadata": {},
   "source": [
    "<div style=\"margin:1.2em 0; background:#f8fafc; color:#111827; border:1px solid #cbd5e1; border-radius:10px; padding:16px 20px; font-size:15.5px; line-height:1.55; font-family:Segoe UI, Roboto, sans-serif;\">\n",
    "\n",
    "  <div style=\"font-weight:700; color:#1e293b; margin-bottom:.5rem; font-size:16.5px;\">\n",
    "    Composite Systems \n",
    "  </div>\n",
    "\n",
    "  When two physical systems are treated as a single combined system, the state space is the tensor product space $\\mathcal{H}_A \\otimes \\mathcal{H}_B$ of the component spaces. If the first system is in state $\\ket{\\psi_1}$ and the second in state $\\ket{\\psi_2}$, then the combined system is\n",
    "  \n",
    "  $$\n",
    "  \\ket{\\psi_1} \\otimes \\ket{\\psi_2} = \\ket{\\psi_1}\\ket{\\psi_2}.\n",
    "  $$\n",
    "\n",
    "</div>"
   ]
  },
  {
   "cell_type": "markdown",
   "id": "9d100303",
   "metadata": {},
   "source": [
    "In the quantum computing setting, if each subsystem has computational basis $\\{\\ket{0}, \\ket{1}\\}$, then the combined system $\\mathcal{H}_A \\otimes \\mathcal{H}_B$ has basis $\\{\\ket{00}, \\ket{01}, \\ket{10}, \\ket{11}\\}$.\n",
    "\n",
    "Composite systems allow us to define one of the most interesting and puzzling phenomena: **entanglement**. The most well-known entangled states are the Bell States."
   ]
  },
  {
   "cell_type": "markdown",
   "id": "9a2448dc",
   "metadata": {},
   "source": [
    "<div style=\"margin:1.2em 0; background:#f8fafc; color:#111827; border:1px solid #cbd5e1; border-radius:10px; padding:16px 20px; font-size:15.5px; line-height:1.55; font-family:Segoe UI, Roboto, sans-serif;\">\n",
    "\n",
    "  <div style=\"font-weight:700; color:#1e293b; margin-bottom:.5rem; font-size:16.5px;\">\n",
    "    Bell States\n",
    "  </div>\n",
    "\n",
    "$$\n",
    "\\begin{aligned}\n",
    "\\ket{\\beta_{00}} &= \\frac{\\ket{00} + \\ket{11}}{\\sqrt{2}} \\\\\n",
    "\\ket{\\beta_{01}} &= \\frac{\\ket{01} + \\ket{10}}{\\sqrt{2}} \\\\\n",
    "\\ket{\\beta_{10}} &= \\frac{\\ket{00} - \\ket{11}}{\\sqrt{2}} \\\\\n",
    "\\ket{\\beta_{11}} &= \\frac{\\ket{01} - \\ket{10}}{\\sqrt{2}}\n",
    "\\end{aligned}\n",
    "$$\n",
    "</div>"
   ]
  },
  {
   "cell_type": "markdown",
   "id": "80a116db",
   "metadata": {},
   "source": [
    "These states cannot be written as a product $\\ket{\\psi_1}\\ket{\\psi_2}$. That is, there are no single-qubit states $\\ket{\\psi_1}$, $\\ket{\\psi_2}$ such that (for example) $\\ket{\\beta_{00}} = \\ket{\\psi_1}\\ket{\\psi_2}$. Entanglement must be created **locally** by making qubits interact.\n",
    "\n",
    "A key feature: perfect correlations. Suppose Alice and Bob share $\\ket{\\beta_{00}} = \\dfrac{\\ket{00} + \\ket{11}}{\\sqrt{2}}$ and then separate, each keeping one qubit. If Alice measures her qubit and obtains $0$, the post-measurement state collapses to $\\ket{00}$, so she (and Bob, once informed) knows Bob’s qubit is $0$. Einstein disliked this phenomenon, interpreting it as if information traveled instantaneously—but no usable faster-than-light signaling occurs."
   ]
  },
  {
   "cell_type": "markdown",
   "id": "72a427078a643cc4",
   "metadata": {},
   "source": [
    "Simulating entanglement will be a bit harder, because we need two qubits. However, the following code will show you how we can create a 2 qubit system:"
   ]
  },
  {
   "cell_type": "code",
   "execution_count": 19,
   "id": "1c3e911afa535391",
   "metadata": {
    "ExecuteTime": {
     "end_time": "2025-09-30T15:07:15.274786Z",
     "start_time": "2025-09-30T15:07:14.910588Z"
    }
   },
   "outputs": [
    {
     "data": {
      "image/png": "[encoded data removed]",
      "text/plain": [
       "<Figure size 287.294x284.278 with 1 Axes>"
      ]
     },
     "execution_count": 19,
     "metadata": {},
     "output_type": "execute_result"
    }
   ],
   "source": [
    "qc_two = QuantumCircuit(2, 2) # Create a quantum circuit with two qubits\n",
    "qc_two.h(0)  # Apply Hadamard gate to qubit 0, notice we apply it to only one qubit, because we also need a control qubit\n",
    "qc_two.measure([0,1], [0,1])  # measure both qubits we need to store both qubits into two list\n",
    "\n",
    "# Simulate the result\n",
    "result = simulate(qc_two)\n",
    "\n",
    "qc_two.draw('mpl')"
   ]
  },
  {
   "cell_type": "code",
   "execution_count": 20,
   "id": "2b04aaf2eba53568",
   "metadata": {
    "ExecuteTime": {
     "end_time": "2025-09-30T15:07:15.425444Z",
     "start_time": "2025-09-30T15:07:15.298014Z"
    }
   },
   "outputs": [
    {
     "data": {
      "image/png": "[encoded data removed]",
      "text/plain": [
       "<Figure size 640x480 with 1 Axes>"
      ]
     },
     "execution_count": 20,
     "metadata": {},
     "output_type": "execute_result"
    }
   ],
   "source": [
    "plot_histogram(result.get_counts())"
   ]
  },
  {
   "cell_type": "markdown",
   "id": "ed68af0fa5d87e32",
   "metadata": {},
   "source": [
    "We can see that we have one qubit only in the zero state and the other can be a superposition. The results show that we indeed have almost a 50-50 distribution between the two states."
   ]
  },
  {
   "cell_type": "markdown",
   "id": "89483fbddfe88bea",
   "metadata": {},
   "source": [
    "Before we can try to simulate the entagled state, we must introduce a new gate, namely the CNOT gate. A CNOT works a bit differently than the previous gates. The CNOT gate is a two-qubit operation, one target and one control qubit. What the gate does it will flip the target qubit if the control qubit is in the state $\\ket{1}$. If the control qubit is in the state $\\ket{0}$, the target qubit will remain unchanged. The mathematical representation of the CNOT gate is:\n",
    "$$\n",
    "CNOT = \\begin{bmatrix}\n",
    "    1 & 0 & 0 & 0  \\\\\n",
    "    0 & 1 & 0 & 0  \\\\\n",
    "    0 & 0 & 0 & 1  \\\\\n",
    "    0 & 0 & 1 & 0\n",
    "\\end{bmatrix}\n",
    "$$\n",
    "As can be seen from the mathematical description it is a 4x4 matrix, this is because it is a two qubit operation."
   ]
  },
  {
   "cell_type": "code",
   "execution_count": 21,
   "id": "fef513c6e3678e41",
   "metadata": {
    "ExecuteTime": {
     "end_time": "2025-09-30T15:07:15.555169Z",
     "start_time": "2025-09-30T15:07:15.452231Z"
    }
   },
   "outputs": [
    {
     "data": {
      "image/png": "[encoded data removed]",
      "text/plain": [
       "<Figure size 203.683x284.278 with 1 Axes>"
      ]
     },
     "execution_count": 21,
     "metadata": {},
     "output_type": "execute_result"
    }
   ],
   "source": [
    "cnot_qc = QuantumCircuit(2,2)\n",
    "cnot_qc.cx(0,1)   # Pauli x-gate on qubit 0\n",
    "cnot_qc.draw('mpl')"
   ]
  },
  {
   "cell_type": "markdown",
   "id": "556b632f7009914c",
   "metadata": {},
   "source": [
    "Now with this new knowledge try to simulate an entagled state yourself."
   ]
  },
  {
   "cell_type": "code",
   "execution_count": null,
   "id": "7d1cedef75658ee2",
   "metadata": {
    "ExecuteTime": {
     "end_time": "2025-09-30T15:07:15.583629Z",
     "start_time": "2025-09-30T15:07:15.580206Z"
    }
   },
   "outputs": [],
   "source": []
  },
  {
   "cell_type": "markdown",
   "id": "c7dce012",
   "metadata": {},
   "source": [
    "# Tunnelling\n",
    "\n",
    "Tunnelling is a remarkable quantum phenomenon that originates from the wave description of particles. As we have seen in the double slit experiment, a particle can be described as a wave; the mathematical tool used to do so is the **wave function**.\n",
    "\n",
    "The potential barrier is a classic example to understand tunnelling.\n",
    "\n",
    "<p align=\"center\">\n",
    "  <img src=\"images/potential_barrier.png\" alt=\"Potential barrier\" width=\"30%\">\n",
    "</p>\n",
    "\n",
    "It consists of an energy barrier (a potential) with height $V_0$ and width $L$. In classical mechanics, when a particle with energy $E < V_0$ reaches the barrier, it cannot surmount it and would be completely reflected. In quantum mechanics, there is a nonzero probability of finding the particle on the other side: the **tunnelling effect**.\n",
    "\n",
    "We model the particle in Region 1 as an incident wave described by a wave function $\\psi_I(x)$, which splits into a reflected part $\\psi_R(x)$ and a transmitted part $\\psi_T(x)$:\n",
    "$$\\psi_I(x) = \\psi_R(x) + \\psi_T(x)$$\n",
    "\n",
    "After entering Region 2 (inside the barrier), the wave decays but does not vanish immediately; encountering the far edge, part of it emerges into Region 3 as a transmitted wave. This nonzero transmission for $E < V_0$ is the tunnelling effect."
   ]
  }
 ],
 "metadata": {
  "kernelspec": {
   "display_name": ".venv",
   "language": "python",
   "name": "python3"
  },
  "language_info": {
   "codemirror_mode": {
    "name": "ipython",
    "version": 3
   },
   "file_extension": ".py",
   "mimetype": "text/x-python",
   "name": "python",
   "nbconvert_exporter": "python",
   "pygments_lexer": "ipython3",
   "version": "3.11.9"
  }
 },
 "nbformat": 4,
 "nbformat_minor": 5
}
